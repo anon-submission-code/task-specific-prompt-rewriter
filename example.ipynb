{
 "cells": [
  {
   "cell_type": "code",
   "execution_count": null,
   "id": "f46af2a9-cf78-4195-a751-e4e026fe67d3",
   "metadata": {},
   "outputs": [],
   "source": [
    "# Example: Training & Evaluating a Prompt Rewriter"
   ]
  },
  {
   "cell_type": "code",
   "execution_count": null,
   "id": "1a1455f1-9581-44f5-a339-fab46f210c97",
   "metadata": {},
   "outputs": [],
   "source": [
    "# Install all project dependencies\n",
    "!pip install -r requirements.txt"
   ]
  },
  {
   "cell_type": "code",
   "execution_count": null,
   "id": "25d7b963-7bcd-4d93-842a-e31bc76e36c3",
   "metadata": {
    "execution": {
     "iopub.status.idle": "2025-07-09T09:41:33.009547Z",
     "shell.execute_reply": "2025-07-09T09:41:33.008942Z",
     "shell.execute_reply.started": "2025-07-09T09:22:59.697580Z"
    }
   },
   "outputs": [],
   "source": [
    "# Basic GRPO training on the CNN/DM dataset\n",
    "!python grpo_training.py \\\n",
    "--rewriting_model_name unsloth/Phi-4-mini-instruct \\\n",
    "--response_model_name BEDROCK \\ # Llama 3.1-8B-Instruct\n",
    "--dataset cnndm \\\n",
    "--batch_size 4 \\\n",
    "--lr 1e-5 \\\n",
    "--epochs 2 \\\n",
    "--max_new_tokens 256 \\\n",
    "--output_dir grpo_phi_cnndm"
   ]
  },
  {
   "cell_type": "code",
   "execution_count": null,
   "id": "ab7c89b5-d8f4-4e52-b621-d5cdca0bd398",
   "metadata": {},
   "outputs": [],
   "source": [
    "# 0 temperature generation evaluation\n",
    "!python evaluate_models.py \\\n",
    "--model_path ./grpo_phi_cnndm \\\n",
    "--response_model_name BEDROCK \\\n",
    "--dataset_name cnndm \\\n",
    "--name \"GRPO_Phi_cnndm\""
   ]
  },
  {
   "cell_type": "code",
   "execution_count": null,
   "id": "48a67020",
   "metadata": {},
   "outputs": [],
   "source": [
    "# Higher temperature generation evaluation\n",
    "!python evaluation_with_sampling.py \\\n",
    "--model_path ./grpo_phi_cnndm \\\n",
    "--response_model_name BEDROCK \\\n",
    "--dataset_name cnndm \\\n",
    "--name \"GRPO_Phi_cnndm\""
   ]
  },
  {
   "cell_type": "code",
   "execution_count": null,
   "id": "e18239fc",
   "metadata": {},
   "outputs": [],
   "source": [
    "# Evaluation with the baseline prompt of the dataset\n",
    "!python baseline_eval.py \\\n",
    "--response_model_name meta-llama/Llama-3.2-3B-Instruct \\\n",
    "--dataset_name cnndm"
   ]
  }
 ],
 "metadata": {
  "kernelspec": {
   "display_name": "Python 3 (ipykernel)",
   "language": "python",
   "name": "python3"
  },
  "language_info": {
   "codemirror_mode": {
    "name": "ipython",
    "version": 3
   },
   "file_extension": ".py",
   "mimetype": "text/x-python",
   "name": "python",
   "nbconvert_exporter": "python",
   "pygments_lexer": "ipython3",
   "version": "3.12.9"
  }
 },
 "nbformat": 4,
 "nbformat_minor": 5
}
